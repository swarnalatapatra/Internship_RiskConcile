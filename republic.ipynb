{
 "cells": [
  {
   "cell_type": "code",
   "execution_count": 4,
   "metadata": {},
   "outputs": [
    {
     "name": "stderr",
     "output_type": "stream",
     "text": [
      "C:\\Users\\Sumi\\Anaconda3\\envs\\NLP\\lib\\site-packages\\gensim\\utils.py:1197: UserWarning: detected Windows; aliasing chunkize to chunkize_serial\n",
      "  warnings.warn(\"detected Windows; aliasing chunkize to chunkize_serial\")\n",
      "Using TensorFlow backend.\n"
     ]
    }
   ],
   "source": [
    "%run bidirectional_LSTM_functions.ipynb"
   ]
  },
  {
   "cell_type": "markdown",
   "metadata": {},
   "source": [
    "## Load and Clean data\n",
    "Data: The Republic by Plato\n",
    "http://www.gutenberg.org/cache/epub/1497/pg1497.txt"
   ]
  },
  {
   "cell_type": "code",
   "execution_count": 5,
   "metadata": {},
   "outputs": [],
   "source": [
    "ROOT = \"C:/Users/Sumi/Desktop/NOTES SEM2/NLP/Internship at RiskConcile/Bidirectiona-LSTM-for-text-summarization--master\""
   ]
  },
  {
   "cell_type": "code",
   "execution_count": 6,
   "metadata": {},
   "outputs": [],
   "source": [
    "# load document\n",
    "in_filename = ROOT+'/republic_clean.txt'\n",
    "doc = load_doc(in_filename)\n",
    "# print(doc[:20])"
   ]
  },
  {
   "cell_type": "code",
   "execution_count": 3,
   "metadata": {},
   "outputs": [
    {
     "name": "stdout",
     "output_type": "stream",
     "text": [
      "Total Tokens: 118683\n",
      "Unique Tokens: 7409\n",
      "Total Sequences: 118632\n"
     ]
    }
   ],
   "source": [
    "# clean document\n",
    "tokens = clean_doc(doc)\n",
    "# print(tokens[:20])\n",
    "print('Total Tokens: %d' % len(tokens))\n",
    "print('Unique Tokens: %d' % len(set(tokens)))\n",
    "\n",
    "# organize into sequences of tokens\n",
    "length = 50 + 1\n",
    "sequences = list()\n",
    "for i in range(length, len(tokens)):\n",
    "    # select sequence of tokens\n",
    "    seq = tokens[i-length:i]\n",
    "    # convert into a line\n",
    "    line = ' '.join(seq)\n",
    "    # store\n",
    "    sequences.append(line)\n",
    "print('Total Sequences: %d' % len(sequences))\n",
    "\n",
    "# save sequences to file\n",
    "out_filename = ROOT + '/republic_sequences.txt'\n",
    "save_doc(sequences, out_filename)"
   ]
  },
  {
   "cell_type": "markdown",
   "metadata": {},
   "source": [
    "## Train Language Model"
   ]
  },
  {
   "cell_type": "markdown",
   "metadata": {},
   "source": [
    "### Load Sequences"
   ]
  },
  {
   "cell_type": "code",
   "execution_count": 4,
   "metadata": {},
   "outputs": [],
   "source": [
    "# load\n",
    "in_filename = ROOT+'/republic_sequences.txt'\n",
    "doc = load_doc(in_filename)\n",
    "lines = doc.split('\\n')\n"
   ]
  },
  {
   "cell_type": "markdown",
   "metadata": {},
   "source": [
    "### Encode Sequences"
   ]
  },
  {
   "cell_type": "code",
   "execution_count": 5,
   "metadata": {},
   "outputs": [],
   "source": [
    "\n",
    "'''Using Tokenizer class in the Keras API.\n",
    "First, the Tokenizer must be trained on the entire training dataset, \n",
    "which means it finds all of the unique words in the data and assigns each a unique integer.\n",
    "We can then use the fit Tokenizer to encode all of the training sequences, converting each sequence from a list of words \n",
    "to a list of integers.\n",
    "'''\n",
    "# integer encode sequences of words\n",
    "tokenizer = Tokenizer()\n",
    "tokenizer.fit_on_texts(lines)\n",
    "sequences = tokenizer.texts_to_sequences(lines)\n"
   ]
  },
  {
   "cell_type": "markdown",
   "metadata": {},
   "source": [
    "We can access the mapping of words to integers as a dictionary attribute called word_index on the Tokenizer object.\n",
    "We need to know the size of the vocabulary for defining the embedding layer later. We can determine the vocabulary by calculating the size of the mapping dictionary.\n",
    "The Embedding layer needs to allocate a vector representation for each word in this vocabulary from index 1 to the largest index "
   ]
  },
  {
   "cell_type": "code",
   "execution_count": 6,
   "metadata": {},
   "outputs": [
    {
     "data": {
      "text/plain": [
       "7410"
      ]
     },
     "execution_count": 6,
     "metadata": {},
     "output_type": "execute_result"
    }
   ],
   "source": [
    "# vocabulary size\n",
    "vocab_size = len(tokenizer.word_index) + 1\n",
    "vocab_size"
   ]
  },
  {
   "cell_type": "markdown",
   "metadata": {},
   "source": [
    "### Sequence Inputs and Output"
   ]
  },
  {
   "cell_type": "code",
   "execution_count": 7,
   "metadata": {},
   "outputs": [
    {
     "data": {
      "text/plain": [
       "50"
      ]
     },
     "execution_count": 7,
     "metadata": {},
     "output_type": "execute_result"
    }
   ],
   "source": [
    "'''\n",
    "- Array slicing done to separate the input sequences into input (X) and output (y) elements.\n",
    "- We then one hot encode the output word. \n",
    "  This means converting it from an integer to a vector of 0 values, one for each word in the vocabulary, \n",
    "  with a 1 to indicate the specific word at the index of the words integer value.\n",
    "  \n",
    "'''\n",
    "# separate into input and output\n",
    "sequences = array(sequences)\n",
    "X, y = sequences[:,:-1], sequences[:,-1] # to specify to the Embedding layer how long input sequences are.\n",
    "y = to_categorical(y, num_classes=vocab_size)\n",
    "seq_length = X.shape[1]\n",
    "seq_length"
   ]
  },
  {
   "cell_type": "markdown",
   "metadata": {},
   "source": [
    "### Fit Model\n",
    "\n",
    "We will use a two LSTM hidden layers with 100 memory cells each. More memory cells and a deeper network may achieve better results.\n",
    "\n",
    "A dense fully connected layer with 100 neurons connects to the LSTM hidden layers to interpret the features extracted from the sequence. The output layer predicts the next word as a single vector the size of the vocabulary with a probability for each word in the vocabulary. A softmax activation function is used to ensure the outputs have the characteristics of normalized probabilities."
   ]
  },
  {
   "cell_type": "code",
   "execution_count": 8,
   "metadata": {},
   "outputs": [
    {
     "name": "stdout",
     "output_type": "stream",
     "text": [
      "WARNING:tensorflow:From C:\\Users\\Sumi\\Anaconda3\\envs\\NLP\\lib\\site-packages\\tensorflow\\python\\framework\\op_def_library.py:263: colocate_with (from tensorflow.python.framework.ops) is deprecated and will be removed in a future version.\n",
      "Instructions for updating:\n",
      "Colocations handled automatically by placer.\n",
      "Model: \"sequential_1\"\n",
      "_________________________________________________________________\n",
      "Layer (type)                 Output Shape              Param #   \n",
      "=================================================================\n",
      "embedding_1 (Embedding)      (None, 50, 50)            370500    \n",
      "_________________________________________________________________\n",
      "lstm_1 (LSTM)                (None, 50, 100)           60400     \n",
      "_________________________________________________________________\n",
      "lstm_2 (LSTM)                (None, 100)               80400     \n",
      "_________________________________________________________________\n",
      "dense_1 (Dense)              (None, 100)               10100     \n",
      "_________________________________________________________________\n",
      "dense_2 (Dense)              (None, 7410)              748410    \n",
      "=================================================================\n",
      "Total params: 1,269,810\n",
      "Trainable params: 1,269,810\n",
      "Non-trainable params: 0\n",
      "_________________________________________________________________\n",
      "None\n"
     ]
    }
   ],
   "source": [
    "# define model\n",
    "lstm_model = Sequential()\n",
    "lstm_model.add(Embedding(vocab_size, 50, input_length=seq_length))\n",
    "lstm_model.add(LSTM(100, return_sequences=True))\n",
    "lstm_model.add(LSTM(100))\n",
    "lstm_model.add(Dense(100, activation='relu'))\n",
    "lstm_model.add(Dense(vocab_size, activation='softmax'))\n",
    "print(lstm_model.summary())"
   ]
  },
  {
   "cell_type": "markdown",
   "metadata": {},
   "source": [
    "Next, the model is compiled specifying the categorical cross entropy loss needed to fit the model. Technically, the model is learning a multi-class classification and this is the suitable loss function for this type of problem.\n",
    "\n",
    "The efficient Adam implementation to mini-batch gradient descent is used and accuracy is evaluated of the model.\n",
    "\n",
    "Finally, the model is fit on the data for 100 training epochs with a modest batch size of 128 to speed things up.\n"
   ]
  },
  {
   "cell_type": "code",
   "execution_count": 16,
   "metadata": {},
   "outputs": [
    {
     "name": "stdout",
     "output_type": "stream",
     "text": [
      "Epoch 1/20\n",
      "118632/118632 [==============================] - 352s 3ms/step - loss: 5.2642 - acc: 0.1540\n",
      "Epoch 2/20\n",
      "118632/118632 [==============================] - 329s 3ms/step - loss: 5.1939 - acc: 0.1566\n",
      "Epoch 3/20\n",
      "118632/118632 [==============================] - 330s 3ms/step - loss: 5.1456 - acc: 0.1593\n",
      "Epoch 4/20\n",
      "118632/118632 [==============================] - 319s 3ms/step - loss: 5.1061 - acc: 0.1614\n",
      "Epoch 5/20\n",
      "118632/118632 [==============================] - 313s 3ms/step - loss: 5.0717 - acc: 0.1634\n",
      "Epoch 6/20\n",
      "118632/118632 [==============================] - 315s 3ms/step - loss: 5.0402 - acc: 0.1653\n",
      "Epoch 7/20\n",
      "118632/118632 [==============================] - 318s 3ms/step - loss: 5.0354 - acc: 0.1645\n",
      "Epoch 8/20\n",
      "118632/118632 [==============================] - 312s 3ms/step - loss: 5.0061 - acc: 0.1663\n",
      "Epoch 9/20\n",
      "118632/118632 [==============================] - 321s 3ms/step - loss: 4.9686 - acc: 0.1690\n",
      "Epoch 10/20\n",
      "118632/118632 [==============================] - 312s 3ms/step - loss: 4.9439 - acc: 0.1697\n",
      "Epoch 11/20\n",
      "118632/118632 [==============================] - 315s 3ms/step - loss: 4.9204 - acc: 0.1712\n",
      "Epoch 12/20\n",
      "118632/118632 [==============================] - 305s 3ms/step - loss: 4.8991 - acc: 0.1724\n",
      "Epoch 13/20\n",
      "118632/118632 [==============================] - 300s 3ms/step - loss: 4.8763 - acc: 0.1736\n",
      "Epoch 14/20\n",
      "118632/118632 [==============================] - 307s 3ms/step - loss: 4.8533 - acc: 0.1751\n",
      "Epoch 15/20\n",
      "118632/118632 [==============================] - 312s 3ms/step - loss: 4.8314 - acc: 0.1771\n",
      "Epoch 16/20\n",
      "118632/118632 [==============================] - 301s 3ms/step - loss: 4.8102 - acc: 0.1785\n",
      "Epoch 17/20\n",
      "118632/118632 [==============================] - 303s 3ms/step - loss: 4.7911 - acc: 0.1799\n",
      "Epoch 18/20\n",
      "118632/118632 [==============================] - 303s 3ms/step - loss: 4.7693 - acc: 0.1814\n",
      "Epoch 19/20\n",
      "118632/118632 [==============================] - 310s 3ms/step - loss: 4.7483 - acc: 0.1830\n",
      "Epoch 20/20\n",
      "118632/118632 [==============================] - 307s 3ms/step - loss: 4.7278 - acc: 0.1839\n"
     ]
    }
   ],
   "source": [
    "# compile model\n",
    "lstm_model.compile(loss='categorical_crossentropy', optimizer='adam', metrics=['accuracy'])\n",
    "# fit model\n",
    "epochs = 20\n",
    "history = lstm_model.fit(X, y, batch_size=512, epochs=epochs)"
   ]
  },
  {
   "cell_type": "code",
   "execution_count": 25,
   "metadata": {},
   "outputs": [
    {
     "data": {
      "image/png": "[encoded data removed]",
      "text/plain": [
       "<Figure size 432x288 with 1 Axes>"
      ]
     },
     "metadata": {
      "needs_background": "light"
     },
     "output_type": "display_data"
    }
   ],
   "source": [
    "import matplotlib.pyplot as plt\n",
    "\n",
    "# Plot training & validation accuracy values\n",
    "plt.plot(history.history['acc'])\n",
    "plt.title('Model accuracy')\n",
    "plt.ylabel('Accuracy')\n",
    "plt.xlabel('Epoch')\n",
    "plt.legend(['Train', 'Test'], loc='upper left')\n",
    "plt.show()\n"
   ]
  },
  {
   "cell_type": "code",
   "execution_count": 26,
   "metadata": {},
   "outputs": [
    {
     "data": {
      "image/png": "[encoded data removed]",
      "text/plain": [
       "<Figure size 432x288 with 1 Axes>"
      ]
     },
     "metadata": {
      "needs_background": "light"
     },
     "output_type": "display_data"
    }
   ],
   "source": [
    "# Plot training & validation loss values\n",
    "plt.plot(history.history['loss'])\n",
    "plt.title('Model loss')\n",
    "plt.ylabel('Loss')\n",
    "plt.xlabel('Epoch')\n",
    "plt.legend(['Train', 'Test'], loc='upper left')\n",
    "plt.show()"
   ]
  },
  {
   "cell_type": "markdown",
   "metadata": {},
   "source": [
    "### Save Model"
   ]
  },
  {
   "cell_type": "code",
   "execution_count": 17,
   "metadata": {},
   "outputs": [],
   "source": [
    "# save the model to file\n",
    "lstm_model.save(ROOT+'/'+str(epochs)+'_epochs_republic_model.h5')\n",
    "# save the tokenizer\n",
    "dump(tokenizer, open(ROOT+'/republic_tokenizer.pkl', 'wb'))"
   ]
  },
  {
   "cell_type": "markdown",
   "metadata": {},
   "source": [
    "## Use Language Model"
   ]
  },
  {
   "cell_type": "markdown",
   "metadata": {},
   "source": [
    "### Load Data"
   ]
  },
  {
   "cell_type": "code",
   "execution_count": 11,
   "metadata": {},
   "outputs": [],
   "source": [
    "# # load cleaned text sequences\n",
    "# in_filename = ROOT+'/republic_sequences.txt'\n",
    "# doc = load_doc(in_filename)\n",
    "# lines = doc.split('\\n')"
   ]
  },
  {
   "cell_type": "markdown",
   "metadata": {},
   "source": [
    "### Load Saved Model and Tokenizer"
   ]
  },
  {
   "cell_type": "code",
   "execution_count": 34,
   "metadata": {},
   "outputs": [],
   "source": [
    "# # load the model\n",
    "# model = load_model(ROOT+'/100_epochs_republic_model.h5')\n",
    "\n",
    "# # load the tokenizer\n",
    "# tokenizer = load(open(ROOT+'/republic_tokenizer.pkl', 'rb'))"
   ]
  },
  {
   "cell_type": "markdown",
   "metadata": {},
   "source": [
    "### Generate Text"
   ]
  },
  {
   "cell_type": "code",
   "execution_count": 18,
   "metadata": {},
   "outputs": [
    {
     "name": "stdout",
     "output_type": "stream",
     "text": [
      "shadow of justice and for that reason it was of use clearly but in reality justice was such as we were describing being concerned however not with the outward man but with the inward which is the true self and concernment of man for the just man does not permit the\n",
      "\n",
      "other and the same and the same and the same and the same and the same and the same and the same and the same and the same and the same and the same and the same and the same and the same and the same and the same and\n"
     ]
    }
   ],
   "source": [
    "# select a seed text\n",
    "seed_text = lines[randint(0,len(lines))]\n",
    "print(seed_text + '\\n')\n",
    " \n",
    "# generate new text\n",
    "generated = generate_seq(lstm_model, tokenizer, seq_length, seed_text, 50)\n",
    "print(generated)"
   ]
  },
  {
   "cell_type": "code",
   "execution_count": null,
   "metadata": {},
   "outputs": [],
   "source": []
  }
 ],
 "metadata": {
  "kernelspec": {
   "display_name": "Python 3",
   "language": "python",
   "name": "python3"
  },
  "language_info": {
   "codemirror_mode": {
    "name": "ipython",
    "version": 3
   },
   "file_extension": ".py",
   "mimetype": "text/x-python",
   "name": "python",
   "nbconvert_exporter": "python",
   "pygments_lexer": "ipython3",
   "version": "3.6.9"
  },
  "toc": {
   "base_numbering": 1,
   "nav_menu": {},
   "number_sections": true,
   "sideBar": true,
   "skip_h1_title": false,
   "title_cell": "Table of Contents",
   "title_sidebar": "Contents",
   "toc_cell": false,
   "toc_position": {},
   "toc_section_display": true,
   "toc_window_display": false
  }
 },
 "nbformat": 4,
 "nbformat_minor": 2
}
